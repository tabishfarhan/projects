{
 "cells": [
  {
   "cell_type": "markdown",
   "metadata": {
    "colab_type": "text",
    "id": "WiVXvuYj198C"
   },
   "source": [
    "# Loading the necessary libraries. Import and load the dataset with a name uber_drives ."
   ]
  },
  {
   "cell_type": "code",
   "execution_count": 21,
   "metadata": {
    "colab": {
     "base_uri": "https://localhost:8080/",
     "height": 71
    },
    "colab_type": "code",
    "id": "1t_S2Qw_198D",
    "outputId": "ecf248c8-f69d-4665-86db-c6f36b633183"
   },
   "outputs": [],
   "source": [
    "import numpy as np\n",
    "import pandas as pd\n",
    "import matplotlib.pyplot as plt\n",
    "import seaborn as sns"
   ]
  },
  {
   "cell_type": "code",
   "execution_count": 26,
   "metadata": {
    "colab": {},
    "colab_type": "code",
    "id": "rOMfio427XfR"
   },
   "outputs": [],
   "source": [
    "# Get the Data\n",
    "uber_drive=pd.read_csv(\"uberdrive.csv\")"
   ]
  },
  {
   "cell_type": "code",
   "execution_count": 27,
   "metadata": {},
   "outputs": [
    {
     "data": {
      "text/html": [
       "<div>\n",
       "<style scoped>\n",
       "    .dataframe tbody tr th:only-of-type {\n",
       "        vertical-align: middle;\n",
       "    }\n",
       "\n",
       "    .dataframe tbody tr th {\n",
       "        vertical-align: top;\n",
       "    }\n",
       "\n",
       "    .dataframe thead th {\n",
       "        text-align: right;\n",
       "    }\n",
       "</style>\n",
       "<table border=\"1\" class=\"dataframe\">\n",
       "  <thead>\n",
       "    <tr style=\"text-align: right;\">\n",
       "      <th></th>\n",
       "      <th>START_DATE*</th>\n",
       "      <th>END_DATE*</th>\n",
       "      <th>CATEGORY*</th>\n",
       "      <th>START*</th>\n",
       "      <th>STOP*</th>\n",
       "      <th>MILES*</th>\n",
       "      <th>PURPOSE*</th>\n",
       "    </tr>\n",
       "  </thead>\n",
       "  <tbody>\n",
       "    <tr>\n",
       "      <th>0</th>\n",
       "      <td>01-01-2016 21:11</td>\n",
       "      <td>01-01-2016 21:17</td>\n",
       "      <td>Business</td>\n",
       "      <td>Fort Pierce</td>\n",
       "      <td>Fort Pierce</td>\n",
       "      <td>5.1</td>\n",
       "      <td>Meal/Entertain</td>\n",
       "    </tr>\n",
       "    <tr>\n",
       "      <th>1</th>\n",
       "      <td>01-02-2016 01:25</td>\n",
       "      <td>01-02-2016 01:37</td>\n",
       "      <td>Business</td>\n",
       "      <td>Fort Pierce</td>\n",
       "      <td>Fort Pierce</td>\n",
       "      <td>5.0</td>\n",
       "      <td>NaN</td>\n",
       "    </tr>\n",
       "    <tr>\n",
       "      <th>2</th>\n",
       "      <td>01-02-2016 20:25</td>\n",
       "      <td>01-02-2016 20:38</td>\n",
       "      <td>Business</td>\n",
       "      <td>Fort Pierce</td>\n",
       "      <td>Fort Pierce</td>\n",
       "      <td>4.8</td>\n",
       "      <td>Errand/Supplies</td>\n",
       "    </tr>\n",
       "    <tr>\n",
       "      <th>3</th>\n",
       "      <td>01-05-2016 17:31</td>\n",
       "      <td>01-05-2016 17:45</td>\n",
       "      <td>Business</td>\n",
       "      <td>Fort Pierce</td>\n",
       "      <td>Fort Pierce</td>\n",
       "      <td>4.7</td>\n",
       "      <td>Meeting</td>\n",
       "    </tr>\n",
       "    <tr>\n",
       "      <th>4</th>\n",
       "      <td>01-06-2016 14:42</td>\n",
       "      <td>01-06-2016 15:49</td>\n",
       "      <td>Business</td>\n",
       "      <td>Fort Pierce</td>\n",
       "      <td>West Palm Beach</td>\n",
       "      <td>63.7</td>\n",
       "      <td>Customer Visit</td>\n",
       "    </tr>\n",
       "    <tr>\n",
       "      <th>...</th>\n",
       "      <td>...</td>\n",
       "      <td>...</td>\n",
       "      <td>...</td>\n",
       "      <td>...</td>\n",
       "      <td>...</td>\n",
       "      <td>...</td>\n",
       "      <td>...</td>\n",
       "    </tr>\n",
       "    <tr>\n",
       "      <th>1150</th>\n",
       "      <td>12/31/2016 1:07</td>\n",
       "      <td>12/31/2016 1:14</td>\n",
       "      <td>Business</td>\n",
       "      <td>Karachi</td>\n",
       "      <td>Karachi</td>\n",
       "      <td>0.7</td>\n",
       "      <td>Meeting</td>\n",
       "    </tr>\n",
       "    <tr>\n",
       "      <th>1151</th>\n",
       "      <td>12/31/2016 13:24</td>\n",
       "      <td>12/31/2016 13:42</td>\n",
       "      <td>Business</td>\n",
       "      <td>Karachi</td>\n",
       "      <td>Unknown Location</td>\n",
       "      <td>3.9</td>\n",
       "      <td>Temporary Site</td>\n",
       "    </tr>\n",
       "    <tr>\n",
       "      <th>1152</th>\n",
       "      <td>12/31/2016 15:03</td>\n",
       "      <td>12/31/2016 15:38</td>\n",
       "      <td>Business</td>\n",
       "      <td>Unknown Location</td>\n",
       "      <td>Unknown Location</td>\n",
       "      <td>16.2</td>\n",
       "      <td>Meeting</td>\n",
       "    </tr>\n",
       "    <tr>\n",
       "      <th>1153</th>\n",
       "      <td>12/31/2016 21:32</td>\n",
       "      <td>12/31/2016 21:50</td>\n",
       "      <td>Business</td>\n",
       "      <td>Katunayake</td>\n",
       "      <td>Gampaha</td>\n",
       "      <td>6.4</td>\n",
       "      <td>Temporary Site</td>\n",
       "    </tr>\n",
       "    <tr>\n",
       "      <th>1154</th>\n",
       "      <td>12/31/2016 22:08</td>\n",
       "      <td>12/31/2016 23:51</td>\n",
       "      <td>Business</td>\n",
       "      <td>Gampaha</td>\n",
       "      <td>Ilukwatta</td>\n",
       "      <td>48.2</td>\n",
       "      <td>Temporary Site</td>\n",
       "    </tr>\n",
       "  </tbody>\n",
       "</table>\n",
       "<p>1155 rows × 7 columns</p>\n",
       "</div>"
      ],
      "text/plain": [
       "           START_DATE*         END_DATE* CATEGORY*            START*  \\\n",
       "0     01-01-2016 21:11  01-01-2016 21:17  Business       Fort Pierce   \n",
       "1     01-02-2016 01:25  01-02-2016 01:37  Business       Fort Pierce   \n",
       "2     01-02-2016 20:25  01-02-2016 20:38  Business       Fort Pierce   \n",
       "3     01-05-2016 17:31  01-05-2016 17:45  Business       Fort Pierce   \n",
       "4     01-06-2016 14:42  01-06-2016 15:49  Business       Fort Pierce   \n",
       "...                ...               ...       ...               ...   \n",
       "1150   12/31/2016 1:07   12/31/2016 1:14  Business           Karachi   \n",
       "1151  12/31/2016 13:24  12/31/2016 13:42  Business           Karachi   \n",
       "1152  12/31/2016 15:03  12/31/2016 15:38  Business  Unknown Location   \n",
       "1153  12/31/2016 21:32  12/31/2016 21:50  Business        Katunayake   \n",
       "1154  12/31/2016 22:08  12/31/2016 23:51  Business           Gampaha   \n",
       "\n",
       "                 STOP*  MILES*         PURPOSE*  \n",
       "0          Fort Pierce     5.1   Meal/Entertain  \n",
       "1          Fort Pierce     5.0              NaN  \n",
       "2          Fort Pierce     4.8  Errand/Supplies  \n",
       "3          Fort Pierce     4.7          Meeting  \n",
       "4      West Palm Beach    63.7   Customer Visit  \n",
       "...                ...     ...              ...  \n",
       "1150           Karachi     0.7          Meeting  \n",
       "1151  Unknown Location     3.9   Temporary Site  \n",
       "1152  Unknown Location    16.2          Meeting  \n",
       "1153           Gampaha     6.4   Temporary Site  \n",
       "1154         Ilukwatta    48.2   Temporary Site  \n",
       "\n",
       "[1155 rows x 7 columns]"
      ]
     },
     "execution_count": 27,
     "metadata": {},
     "output_type": "execute_result"
    }
   ],
   "source": [
    "uber_drive"
   ]
  },
  {
   "cell_type": "markdown",
   "metadata": {
    "colab_type": "text",
    "id": "DZktgL3E198I"
   },
   "source": [
    "## Q1. Show the last 10 records of the dataset. (2 point)"
   ]
  },
  {
   "cell_type": "code",
   "execution_count": 28,
   "metadata": {
    "colab": {
     "base_uri": "https://localhost:8080/",
     "height": 359
    },
    "colab_type": "code",
    "id": "pk7z2uii198I",
    "outputId": "ba211794-88ce-48d0-ea0e-48c9c7411b82"
   },
   "outputs": [
    {
     "data": {
      "text/html": [
       "<div>\n",
       "<style scoped>\n",
       "    .dataframe tbody tr th:only-of-type {\n",
       "        vertical-align: middle;\n",
       "    }\n",
       "\n",
       "    .dataframe tbody tr th {\n",
       "        vertical-align: top;\n",
       "    }\n",
       "\n",
       "    .dataframe thead th {\n",
       "        text-align: right;\n",
       "    }\n",
       "</style>\n",
       "<table border=\"1\" class=\"dataframe\">\n",
       "  <thead>\n",
       "    <tr style=\"text-align: right;\">\n",
       "      <th></th>\n",
       "      <th>START_DATE*</th>\n",
       "      <th>END_DATE*</th>\n",
       "      <th>CATEGORY*</th>\n",
       "      <th>START*</th>\n",
       "      <th>STOP*</th>\n",
       "      <th>MILES*</th>\n",
       "      <th>PURPOSE*</th>\n",
       "    </tr>\n",
       "  </thead>\n",
       "  <tbody>\n",
       "    <tr>\n",
       "      <th>1145</th>\n",
       "      <td>12/30/2016 10:15</td>\n",
       "      <td>12/30/2016 10:33</td>\n",
       "      <td>Business</td>\n",
       "      <td>Karachi</td>\n",
       "      <td>Karachi</td>\n",
       "      <td>2.8</td>\n",
       "      <td>Errand/Supplies</td>\n",
       "    </tr>\n",
       "    <tr>\n",
       "      <th>1146</th>\n",
       "      <td>12/30/2016 11:31</td>\n",
       "      <td>12/30/2016 11:56</td>\n",
       "      <td>Business</td>\n",
       "      <td>Karachi</td>\n",
       "      <td>Karachi</td>\n",
       "      <td>2.9</td>\n",
       "      <td>Errand/Supplies</td>\n",
       "    </tr>\n",
       "    <tr>\n",
       "      <th>1147</th>\n",
       "      <td>12/30/2016 15:41</td>\n",
       "      <td>12/30/2016 16:03</td>\n",
       "      <td>Business</td>\n",
       "      <td>Karachi</td>\n",
       "      <td>Karachi</td>\n",
       "      <td>4.6</td>\n",
       "      <td>Errand/Supplies</td>\n",
       "    </tr>\n",
       "    <tr>\n",
       "      <th>1148</th>\n",
       "      <td>12/30/2016 16:45</td>\n",
       "      <td>12/30/2016 17:08</td>\n",
       "      <td>Business</td>\n",
       "      <td>Karachi</td>\n",
       "      <td>Karachi</td>\n",
       "      <td>4.6</td>\n",
       "      <td>Meeting</td>\n",
       "    </tr>\n",
       "    <tr>\n",
       "      <th>1149</th>\n",
       "      <td>12/30/2016 23:06</td>\n",
       "      <td>12/30/2016 23:10</td>\n",
       "      <td>Business</td>\n",
       "      <td>Karachi</td>\n",
       "      <td>Karachi</td>\n",
       "      <td>0.8</td>\n",
       "      <td>Customer Visit</td>\n",
       "    </tr>\n",
       "    <tr>\n",
       "      <th>1150</th>\n",
       "      <td>12/31/2016 1:07</td>\n",
       "      <td>12/31/2016 1:14</td>\n",
       "      <td>Business</td>\n",
       "      <td>Karachi</td>\n",
       "      <td>Karachi</td>\n",
       "      <td>0.7</td>\n",
       "      <td>Meeting</td>\n",
       "    </tr>\n",
       "    <tr>\n",
       "      <th>1151</th>\n",
       "      <td>12/31/2016 13:24</td>\n",
       "      <td>12/31/2016 13:42</td>\n",
       "      <td>Business</td>\n",
       "      <td>Karachi</td>\n",
       "      <td>Unknown Location</td>\n",
       "      <td>3.9</td>\n",
       "      <td>Temporary Site</td>\n",
       "    </tr>\n",
       "    <tr>\n",
       "      <th>1152</th>\n",
       "      <td>12/31/2016 15:03</td>\n",
       "      <td>12/31/2016 15:38</td>\n",
       "      <td>Business</td>\n",
       "      <td>Unknown Location</td>\n",
       "      <td>Unknown Location</td>\n",
       "      <td>16.2</td>\n",
       "      <td>Meeting</td>\n",
       "    </tr>\n",
       "    <tr>\n",
       "      <th>1153</th>\n",
       "      <td>12/31/2016 21:32</td>\n",
       "      <td>12/31/2016 21:50</td>\n",
       "      <td>Business</td>\n",
       "      <td>Katunayake</td>\n",
       "      <td>Gampaha</td>\n",
       "      <td>6.4</td>\n",
       "      <td>Temporary Site</td>\n",
       "    </tr>\n",
       "    <tr>\n",
       "      <th>1154</th>\n",
       "      <td>12/31/2016 22:08</td>\n",
       "      <td>12/31/2016 23:51</td>\n",
       "      <td>Business</td>\n",
       "      <td>Gampaha</td>\n",
       "      <td>Ilukwatta</td>\n",
       "      <td>48.2</td>\n",
       "      <td>Temporary Site</td>\n",
       "    </tr>\n",
       "  </tbody>\n",
       "</table>\n",
       "</div>"
      ],
      "text/plain": [
       "           START_DATE*         END_DATE* CATEGORY*            START*  \\\n",
       "1145  12/30/2016 10:15  12/30/2016 10:33  Business           Karachi   \n",
       "1146  12/30/2016 11:31  12/30/2016 11:56  Business           Karachi   \n",
       "1147  12/30/2016 15:41  12/30/2016 16:03  Business           Karachi   \n",
       "1148  12/30/2016 16:45  12/30/2016 17:08  Business           Karachi   \n",
       "1149  12/30/2016 23:06  12/30/2016 23:10  Business           Karachi   \n",
       "1150   12/31/2016 1:07   12/31/2016 1:14  Business           Karachi   \n",
       "1151  12/31/2016 13:24  12/31/2016 13:42  Business           Karachi   \n",
       "1152  12/31/2016 15:03  12/31/2016 15:38  Business  Unknown Location   \n",
       "1153  12/31/2016 21:32  12/31/2016 21:50  Business        Katunayake   \n",
       "1154  12/31/2016 22:08  12/31/2016 23:51  Business           Gampaha   \n",
       "\n",
       "                 STOP*  MILES*         PURPOSE*  \n",
       "1145           Karachi     2.8  Errand/Supplies  \n",
       "1146           Karachi     2.9  Errand/Supplies  \n",
       "1147           Karachi     4.6  Errand/Supplies  \n",
       "1148           Karachi     4.6          Meeting  \n",
       "1149           Karachi     0.8   Customer Visit  \n",
       "1150           Karachi     0.7          Meeting  \n",
       "1151  Unknown Location     3.9   Temporary Site  \n",
       "1152  Unknown Location    16.2          Meeting  \n",
       "1153           Gampaha     6.4   Temporary Site  \n",
       "1154         Ilukwatta    48.2   Temporary Site  "
      ]
     },
     "execution_count": 28,
     "metadata": {},
     "output_type": "execute_result"
    }
   ],
   "source": [
    "uber_drive.tail(10)"
   ]
  },
  {
   "cell_type": "markdown",
   "metadata": {
    "colab_type": "text",
    "id": "ipD0ZQ9O198O"
   },
   "source": [
    "## Q2. Show the first 10 records of the dataset. (2 points)"
   ]
  },
  {
   "cell_type": "code",
   "execution_count": 29,
   "metadata": {
    "colab": {
     "base_uri": "https://localhost:8080/",
     "height": 359
    },
    "colab_type": "code",
    "id": "XzYRsxR1198O",
    "outputId": "c17cacc6-7b93-47fd-fee0-2ebc9d1d1ce4"
   },
   "outputs": [
    {
     "data": {
      "text/html": [
       "<div>\n",
       "<style scoped>\n",
       "    .dataframe tbody tr th:only-of-type {\n",
       "        vertical-align: middle;\n",
       "    }\n",
       "\n",
       "    .dataframe tbody tr th {\n",
       "        vertical-align: top;\n",
       "    }\n",
       "\n",
       "    .dataframe thead th {\n",
       "        text-align: right;\n",
       "    }\n",
       "</style>\n",
       "<table border=\"1\" class=\"dataframe\">\n",
       "  <thead>\n",
       "    <tr style=\"text-align: right;\">\n",
       "      <th></th>\n",
       "      <th>START_DATE*</th>\n",
       "      <th>END_DATE*</th>\n",
       "      <th>CATEGORY*</th>\n",
       "      <th>START*</th>\n",
       "      <th>STOP*</th>\n",
       "      <th>MILES*</th>\n",
       "      <th>PURPOSE*</th>\n",
       "    </tr>\n",
       "  </thead>\n",
       "  <tbody>\n",
       "    <tr>\n",
       "      <th>0</th>\n",
       "      <td>01-01-2016 21:11</td>\n",
       "      <td>01-01-2016 21:17</td>\n",
       "      <td>Business</td>\n",
       "      <td>Fort Pierce</td>\n",
       "      <td>Fort Pierce</td>\n",
       "      <td>5.1</td>\n",
       "      <td>Meal/Entertain</td>\n",
       "    </tr>\n",
       "    <tr>\n",
       "      <th>1</th>\n",
       "      <td>01-02-2016 01:25</td>\n",
       "      <td>01-02-2016 01:37</td>\n",
       "      <td>Business</td>\n",
       "      <td>Fort Pierce</td>\n",
       "      <td>Fort Pierce</td>\n",
       "      <td>5.0</td>\n",
       "      <td>NaN</td>\n",
       "    </tr>\n",
       "    <tr>\n",
       "      <th>2</th>\n",
       "      <td>01-02-2016 20:25</td>\n",
       "      <td>01-02-2016 20:38</td>\n",
       "      <td>Business</td>\n",
       "      <td>Fort Pierce</td>\n",
       "      <td>Fort Pierce</td>\n",
       "      <td>4.8</td>\n",
       "      <td>Errand/Supplies</td>\n",
       "    </tr>\n",
       "    <tr>\n",
       "      <th>3</th>\n",
       "      <td>01-05-2016 17:31</td>\n",
       "      <td>01-05-2016 17:45</td>\n",
       "      <td>Business</td>\n",
       "      <td>Fort Pierce</td>\n",
       "      <td>Fort Pierce</td>\n",
       "      <td>4.7</td>\n",
       "      <td>Meeting</td>\n",
       "    </tr>\n",
       "    <tr>\n",
       "      <th>4</th>\n",
       "      <td>01-06-2016 14:42</td>\n",
       "      <td>01-06-2016 15:49</td>\n",
       "      <td>Business</td>\n",
       "      <td>Fort Pierce</td>\n",
       "      <td>West Palm Beach</td>\n",
       "      <td>63.7</td>\n",
       "      <td>Customer Visit</td>\n",
       "    </tr>\n",
       "    <tr>\n",
       "      <th>5</th>\n",
       "      <td>01-06-2016 17:15</td>\n",
       "      <td>01-06-2016 17:19</td>\n",
       "      <td>Business</td>\n",
       "      <td>West Palm Beach</td>\n",
       "      <td>West Palm Beach</td>\n",
       "      <td>4.3</td>\n",
       "      <td>Meal/Entertain</td>\n",
       "    </tr>\n",
       "    <tr>\n",
       "      <th>6</th>\n",
       "      <td>01-06-2016 17:30</td>\n",
       "      <td>01-06-2016 17:35</td>\n",
       "      <td>Business</td>\n",
       "      <td>West Palm Beach</td>\n",
       "      <td>Palm Beach</td>\n",
       "      <td>7.1</td>\n",
       "      <td>Meeting</td>\n",
       "    </tr>\n",
       "    <tr>\n",
       "      <th>7</th>\n",
       "      <td>01-07-2016 13:27</td>\n",
       "      <td>01-07-2016 13:33</td>\n",
       "      <td>Business</td>\n",
       "      <td>Cary</td>\n",
       "      <td>Cary</td>\n",
       "      <td>0.8</td>\n",
       "      <td>Meeting</td>\n",
       "    </tr>\n",
       "    <tr>\n",
       "      <th>8</th>\n",
       "      <td>01-10-2016 08:05</td>\n",
       "      <td>01-10-2016 08:25</td>\n",
       "      <td>Business</td>\n",
       "      <td>Cary</td>\n",
       "      <td>Morrisville</td>\n",
       "      <td>8.3</td>\n",
       "      <td>Meeting</td>\n",
       "    </tr>\n",
       "    <tr>\n",
       "      <th>9</th>\n",
       "      <td>01-10-2016 12:17</td>\n",
       "      <td>01-10-2016 12:44</td>\n",
       "      <td>Business</td>\n",
       "      <td>Jamaica</td>\n",
       "      <td>New York</td>\n",
       "      <td>16.5</td>\n",
       "      <td>Customer Visit</td>\n",
       "    </tr>\n",
       "  </tbody>\n",
       "</table>\n",
       "</div>"
      ],
      "text/plain": [
       "        START_DATE*         END_DATE* CATEGORY*           START*  \\\n",
       "0  01-01-2016 21:11  01-01-2016 21:17  Business      Fort Pierce   \n",
       "1  01-02-2016 01:25  01-02-2016 01:37  Business      Fort Pierce   \n",
       "2  01-02-2016 20:25  01-02-2016 20:38  Business      Fort Pierce   \n",
       "3  01-05-2016 17:31  01-05-2016 17:45  Business      Fort Pierce   \n",
       "4  01-06-2016 14:42  01-06-2016 15:49  Business      Fort Pierce   \n",
       "5  01-06-2016 17:15  01-06-2016 17:19  Business  West Palm Beach   \n",
       "6  01-06-2016 17:30  01-06-2016 17:35  Business  West Palm Beach   \n",
       "7  01-07-2016 13:27  01-07-2016 13:33  Business             Cary   \n",
       "8  01-10-2016 08:05  01-10-2016 08:25  Business             Cary   \n",
       "9  01-10-2016 12:17  01-10-2016 12:44  Business          Jamaica   \n",
       "\n",
       "             STOP*  MILES*         PURPOSE*  \n",
       "0      Fort Pierce     5.1   Meal/Entertain  \n",
       "1      Fort Pierce     5.0              NaN  \n",
       "2      Fort Pierce     4.8  Errand/Supplies  \n",
       "3      Fort Pierce     4.7          Meeting  \n",
       "4  West Palm Beach    63.7   Customer Visit  \n",
       "5  West Palm Beach     4.3   Meal/Entertain  \n",
       "6       Palm Beach     7.1          Meeting  \n",
       "7             Cary     0.8          Meeting  \n",
       "8      Morrisville     8.3          Meeting  \n",
       "9         New York    16.5   Customer Visit  "
      ]
     },
     "execution_count": 29,
     "metadata": {},
     "output_type": "execute_result"
    }
   ],
   "source": [
    "uber_drive.head(10)"
   ]
  },
  {
   "cell_type": "markdown",
   "metadata": {
    "colab_type": "text",
    "id": "R2F4GX15198S"
   },
   "source": [
    "## Q3. Show the dimension(number of rows and columns) of the dataset. (2 points)"
   ]
  },
  {
   "cell_type": "code",
   "execution_count": 30,
   "metadata": {
    "colab": {
     "base_uri": "https://localhost:8080/",
     "height": 34
    },
    "colab_type": "code",
    "id": "5YAWUNwZ198T",
    "outputId": "08bd39c2-0411-4283-b152-5c581f411ab2"
   },
   "outputs": [
    {
     "data": {
      "text/plain": [
       "(1155, 7)"
      ]
     },
     "execution_count": 30,
     "metadata": {},
     "output_type": "execute_result"
    }
   ],
   "source": [
    "uber_drive.shape"
   ]
  },
  {
   "cell_type": "markdown",
   "metadata": {
    "colab_type": "text",
    "id": "H6x0S6vs198W"
   },
   "source": [
    "## Q4. Show the size (Total number of elements) of the dataset. (2 points)"
   ]
  },
  {
   "cell_type": "code",
   "execution_count": 31,
   "metadata": {
    "colab": {
     "base_uri": "https://localhost:8080/",
     "height": 34
    },
    "colab_type": "code",
    "id": "2IQc1x7D198X",
    "outputId": "9e289385-f933-407a-acb9-40aa9878bddc"
   },
   "outputs": [
    {
     "data": {
      "text/plain": [
       "8085"
      ]
     },
     "execution_count": 31,
     "metadata": {},
     "output_type": "execute_result"
    }
   ],
   "source": [
    "1155*7"
   ]
  },
  {
   "cell_type": "markdown",
   "metadata": {
    "colab_type": "text",
    "id": "c2ATRpjm198a"
   },
   "source": [
    "## Q5. Print the information about all the variables of the data set. (2 points)"
   ]
  },
  {
   "cell_type": "code",
   "execution_count": 32,
   "metadata": {
    "colab": {
     "base_uri": "https://localhost:8080/",
     "height": 255
    },
    "colab_type": "code",
    "id": "D7Pfnrb6198b",
    "outputId": "d30f6876-efe8-4b22-b4f3-7c3f11872ab8"
   },
   "outputs": [
    {
     "name": "stdout",
     "output_type": "stream",
     "text": [
      "<class 'pandas.core.frame.DataFrame'>\n",
      "RangeIndex: 1155 entries, 0 to 1154\n",
      "Data columns (total 7 columns):\n",
      " #   Column       Non-Null Count  Dtype  \n",
      "---  ------       --------------  -----  \n",
      " 0   START_DATE*  1155 non-null   object \n",
      " 1   END_DATE*    1155 non-null   object \n",
      " 2   CATEGORY*    1155 non-null   object \n",
      " 3   START*       1155 non-null   object \n",
      " 4   STOP*        1155 non-null   object \n",
      " 5   MILES*       1155 non-null   float64\n",
      " 6   PURPOSE*     653 non-null    object \n",
      "dtypes: float64(1), object(6)\n",
      "memory usage: 63.3+ KB\n"
     ]
    }
   ],
   "source": [
    "uber_drive.info()"
   ]
  },
  {
   "cell_type": "markdown",
   "metadata": {
    "colab_type": "text",
    "id": "emZkbUV_198g"
   },
   "source": [
    "## Q6. Check for missing values. (2 points) -  Note: Output should be boolean only."
   ]
  },
  {
   "cell_type": "code",
   "execution_count": 33,
   "metadata": {
    "colab": {
     "base_uri": "https://localhost:8080/",
     "height": 34
    },
    "colab_type": "code",
    "id": "XWU-AunT198h",
    "outputId": "a6936a81-ca07-494e-c2ce-7e897bcf6ddd"
   },
   "outputs": [
    {
     "data": {
      "text/html": [
       "<div>\n",
       "<style scoped>\n",
       "    .dataframe tbody tr th:only-of-type {\n",
       "        vertical-align: middle;\n",
       "    }\n",
       "\n",
       "    .dataframe tbody tr th {\n",
       "        vertical-align: top;\n",
       "    }\n",
       "\n",
       "    .dataframe thead th {\n",
       "        text-align: right;\n",
       "    }\n",
       "</style>\n",
       "<table border=\"1\" class=\"dataframe\">\n",
       "  <thead>\n",
       "    <tr style=\"text-align: right;\">\n",
       "      <th></th>\n",
       "      <th>START_DATE*</th>\n",
       "      <th>END_DATE*</th>\n",
       "      <th>CATEGORY*</th>\n",
       "      <th>START*</th>\n",
       "      <th>STOP*</th>\n",
       "      <th>MILES*</th>\n",
       "      <th>PURPOSE*</th>\n",
       "    </tr>\n",
       "  </thead>\n",
       "  <tbody>\n",
       "    <tr>\n",
       "      <th>0</th>\n",
       "      <td>False</td>\n",
       "      <td>False</td>\n",
       "      <td>False</td>\n",
       "      <td>False</td>\n",
       "      <td>False</td>\n",
       "      <td>False</td>\n",
       "      <td>False</td>\n",
       "    </tr>\n",
       "    <tr>\n",
       "      <th>1</th>\n",
       "      <td>False</td>\n",
       "      <td>False</td>\n",
       "      <td>False</td>\n",
       "      <td>False</td>\n",
       "      <td>False</td>\n",
       "      <td>False</td>\n",
       "      <td>True</td>\n",
       "    </tr>\n",
       "    <tr>\n",
       "      <th>2</th>\n",
       "      <td>False</td>\n",
       "      <td>False</td>\n",
       "      <td>False</td>\n",
       "      <td>False</td>\n",
       "      <td>False</td>\n",
       "      <td>False</td>\n",
       "      <td>False</td>\n",
       "    </tr>\n",
       "    <tr>\n",
       "      <th>3</th>\n",
       "      <td>False</td>\n",
       "      <td>False</td>\n",
       "      <td>False</td>\n",
       "      <td>False</td>\n",
       "      <td>False</td>\n",
       "      <td>False</td>\n",
       "      <td>False</td>\n",
       "    </tr>\n",
       "    <tr>\n",
       "      <th>4</th>\n",
       "      <td>False</td>\n",
       "      <td>False</td>\n",
       "      <td>False</td>\n",
       "      <td>False</td>\n",
       "      <td>False</td>\n",
       "      <td>False</td>\n",
       "      <td>False</td>\n",
       "    </tr>\n",
       "    <tr>\n",
       "      <th>...</th>\n",
       "      <td>...</td>\n",
       "      <td>...</td>\n",
       "      <td>...</td>\n",
       "      <td>...</td>\n",
       "      <td>...</td>\n",
       "      <td>...</td>\n",
       "      <td>...</td>\n",
       "    </tr>\n",
       "    <tr>\n",
       "      <th>1150</th>\n",
       "      <td>False</td>\n",
       "      <td>False</td>\n",
       "      <td>False</td>\n",
       "      <td>False</td>\n",
       "      <td>False</td>\n",
       "      <td>False</td>\n",
       "      <td>False</td>\n",
       "    </tr>\n",
       "    <tr>\n",
       "      <th>1151</th>\n",
       "      <td>False</td>\n",
       "      <td>False</td>\n",
       "      <td>False</td>\n",
       "      <td>False</td>\n",
       "      <td>False</td>\n",
       "      <td>False</td>\n",
       "      <td>False</td>\n",
       "    </tr>\n",
       "    <tr>\n",
       "      <th>1152</th>\n",
       "      <td>False</td>\n",
       "      <td>False</td>\n",
       "      <td>False</td>\n",
       "      <td>False</td>\n",
       "      <td>False</td>\n",
       "      <td>False</td>\n",
       "      <td>False</td>\n",
       "    </tr>\n",
       "    <tr>\n",
       "      <th>1153</th>\n",
       "      <td>False</td>\n",
       "      <td>False</td>\n",
       "      <td>False</td>\n",
       "      <td>False</td>\n",
       "      <td>False</td>\n",
       "      <td>False</td>\n",
       "      <td>False</td>\n",
       "    </tr>\n",
       "    <tr>\n",
       "      <th>1154</th>\n",
       "      <td>False</td>\n",
       "      <td>False</td>\n",
       "      <td>False</td>\n",
       "      <td>False</td>\n",
       "      <td>False</td>\n",
       "      <td>False</td>\n",
       "      <td>False</td>\n",
       "    </tr>\n",
       "  </tbody>\n",
       "</table>\n",
       "<p>1155 rows × 7 columns</p>\n",
       "</div>"
      ],
      "text/plain": [
       "      START_DATE*  END_DATE*  CATEGORY*  START*  STOP*  MILES*  PURPOSE*\n",
       "0           False      False      False   False  False   False     False\n",
       "1           False      False      False   False  False   False      True\n",
       "2           False      False      False   False  False   False     False\n",
       "3           False      False      False   False  False   False     False\n",
       "4           False      False      False   False  False   False     False\n",
       "...           ...        ...        ...     ...    ...     ...       ...\n",
       "1150        False      False      False   False  False   False     False\n",
       "1151        False      False      False   False  False   False     False\n",
       "1152        False      False      False   False  False   False     False\n",
       "1153        False      False      False   False  False   False     False\n",
       "1154        False      False      False   False  False   False     False\n",
       "\n",
       "[1155 rows x 7 columns]"
      ]
     },
     "execution_count": 33,
     "metadata": {},
     "output_type": "execute_result"
    }
   ],
   "source": [
    "uber_drive.isnull()"
   ]
  },
  {
   "cell_type": "code",
   "execution_count": 34,
   "metadata": {},
   "outputs": [
    {
     "data": {
      "text/plain": [
       "True"
      ]
     },
     "execution_count": 34,
     "metadata": {},
     "output_type": "execute_result"
    }
   ],
   "source": [
    "uber_drive.isnull().values.any()"
   ]
  },
  {
   "cell_type": "markdown",
   "metadata": {
    "colab_type": "text",
    "id": "UCvC2OPe198l"
   },
   "source": [
    "## Q7. How many missing values are present? (2 points)"
   ]
  },
  {
   "cell_type": "code",
   "execution_count": 35,
   "metadata": {
    "colab": {
     "base_uri": "https://localhost:8080/",
     "height": 34
    },
    "colab_type": "code",
    "id": "o2-vHyGA198m",
    "outputId": "d6ea44a2-8251-4378-a2d4-ee4b2c71d210"
   },
   "outputs": [
    {
     "data": {
      "text/plain": [
       "502"
      ]
     },
     "execution_count": 35,
     "metadata": {},
     "output_type": "execute_result"
    }
   ],
   "source": [
    "uber_drive.isnull().values.sum()"
   ]
  },
  {
   "cell_type": "markdown",
   "metadata": {
    "colab_type": "text",
    "id": "617aSeL_198q"
   },
   "source": [
    "## Q8. Get the summary of the original data. (2 points). Hint:Outcome will contain only numerical column."
   ]
  },
  {
   "cell_type": "code",
   "execution_count": 36,
   "metadata": {},
   "outputs": [
    {
     "data": {
      "text/html": [
       "<div>\n",
       "<style scoped>\n",
       "    .dataframe tbody tr th:only-of-type {\n",
       "        vertical-align: middle;\n",
       "    }\n",
       "\n",
       "    .dataframe tbody tr th {\n",
       "        vertical-align: top;\n",
       "    }\n",
       "\n",
       "    .dataframe thead th {\n",
       "        text-align: right;\n",
       "    }\n",
       "</style>\n",
       "<table border=\"1\" class=\"dataframe\">\n",
       "  <thead>\n",
       "    <tr style=\"text-align: right;\">\n",
       "      <th></th>\n",
       "      <th>MILES*</th>\n",
       "    </tr>\n",
       "  </thead>\n",
       "  <tbody>\n",
       "    <tr>\n",
       "      <th>count</th>\n",
       "      <td>1155.000000</td>\n",
       "    </tr>\n",
       "    <tr>\n",
       "      <th>mean</th>\n",
       "      <td>10.566840</td>\n",
       "    </tr>\n",
       "    <tr>\n",
       "      <th>std</th>\n",
       "      <td>21.579106</td>\n",
       "    </tr>\n",
       "    <tr>\n",
       "      <th>min</th>\n",
       "      <td>0.500000</td>\n",
       "    </tr>\n",
       "    <tr>\n",
       "      <th>25%</th>\n",
       "      <td>2.900000</td>\n",
       "    </tr>\n",
       "    <tr>\n",
       "      <th>50%</th>\n",
       "      <td>6.000000</td>\n",
       "    </tr>\n",
       "    <tr>\n",
       "      <th>75%</th>\n",
       "      <td>10.400000</td>\n",
       "    </tr>\n",
       "    <tr>\n",
       "      <th>max</th>\n",
       "      <td>310.300000</td>\n",
       "    </tr>\n",
       "  </tbody>\n",
       "</table>\n",
       "</div>"
      ],
      "text/plain": [
       "            MILES*\n",
       "count  1155.000000\n",
       "mean     10.566840\n",
       "std      21.579106\n",
       "min       0.500000\n",
       "25%       2.900000\n",
       "50%       6.000000\n",
       "75%      10.400000\n",
       "max     310.300000"
      ]
     },
     "execution_count": 36,
     "metadata": {},
     "output_type": "execute_result"
    }
   ],
   "source": [
    "uber_drive.describe()"
   ]
  },
  {
   "cell_type": "markdown",
   "metadata": {
    "colab_type": "text",
    "id": "8PmU-86n198v"
   },
   "source": [
    "\n",
    "\n",
    "## Q9. Drop the missing values and store the data in a new dataframe (name it\"df\") (2-points)\n",
    "\n",
    "### Note: Dataframe \"df\" will not contain any missing value"
   ]
  },
  {
   "cell_type": "code",
   "execution_count": 37,
   "metadata": {},
   "outputs": [],
   "source": [
    "df=uber_drive.dropna()"
   ]
  },
  {
   "cell_type": "code",
   "execution_count": 38,
   "metadata": {
    "colab": {
     "base_uri": "https://localhost:8080/",
     "height": 34
    },
    "colab_type": "code",
    "id": "3xZC0dvq198w",
    "outputId": "84bb72a9-1750-4251-9a42-a9fadc88deab"
   },
   "outputs": [
    {
     "data": {
      "text/plain": [
       "False"
      ]
     },
     "execution_count": 38,
     "metadata": {},
     "output_type": "execute_result"
    }
   ],
   "source": [
    "df.isnull().values.any()"
   ]
  },
  {
   "cell_type": "code",
   "execution_count": 39,
   "metadata": {},
   "outputs": [
    {
     "data": {
      "text/plain": [
       "0"
      ]
     },
     "execution_count": 39,
     "metadata": {},
     "output_type": "execute_result"
    }
   ],
   "source": [
    "df.isnull().values.sum()"
   ]
  },
  {
   "cell_type": "markdown",
   "metadata": {
    "colab_type": "text",
    "id": "2vIFI9G61983"
   },
   "source": [
    "## Q10. Check the information of the dataframe(df). (2 points)"
   ]
  },
  {
   "cell_type": "code",
   "execution_count": 40,
   "metadata": {
    "colab": {
     "base_uri": "https://localhost:8080/",
     "height": 255
    },
    "colab_type": "code",
    "id": "DrmfQwDc1983",
    "outputId": "5a31be9b-4e9e-4575-95ae-2102f4f56d99"
   },
   "outputs": [
    {
     "name": "stdout",
     "output_type": "stream",
     "text": [
      "<class 'pandas.core.frame.DataFrame'>\n",
      "Int64Index: 653 entries, 0 to 1154\n",
      "Data columns (total 7 columns):\n",
      " #   Column       Non-Null Count  Dtype  \n",
      "---  ------       --------------  -----  \n",
      " 0   START_DATE*  653 non-null    object \n",
      " 1   END_DATE*    653 non-null    object \n",
      " 2   CATEGORY*    653 non-null    object \n",
      " 3   START*       653 non-null    object \n",
      " 4   STOP*        653 non-null    object \n",
      " 5   MILES*       653 non-null    float64\n",
      " 6   PURPOSE*     653 non-null    object \n",
      "dtypes: float64(1), object(6)\n",
      "memory usage: 40.8+ KB\n"
     ]
    }
   ],
   "source": [
    "df.info()"
   ]
  },
  {
   "cell_type": "markdown",
   "metadata": {
    "colab_type": "text",
    "id": "Pqm4jhgT1986"
   },
   "source": [
    "## Q11. Get the unique start destinations. (2 points)\n",
    "### Note: This question is based on the dataframe with no 'NA' values\n",
    "### Hint- You need to print the unique destination place names in this and not the count."
   ]
  },
  {
   "cell_type": "code",
   "execution_count": 41,
   "metadata": {
    "colab": {
     "base_uri": "https://localhost:8080/",
     "height": 544
    },
    "colab_type": "code",
    "id": "jsuoItZX1987",
    "outputId": "593a9be6-c138-4ecc-e7b4-259fa3bea0a1"
   },
   "outputs": [
    {
     "data": {
      "text/plain": [
       "array(['Fort Pierce', 'West Palm Beach', 'Cary', 'Jamaica', 'New York',\n",
       "       'Elmhurst', 'Midtown', 'East Harlem', 'Flatiron District',\n",
       "       'Midtown East', 'Hudson Square', 'Lower Manhattan',\n",
       "       \"Hell's Kitchen\", 'Downtown', 'Gulfton', 'Houston', 'Eagan Park',\n",
       "       'Morrisville', 'Durham', 'Farmington Woods', 'Whitebridge',\n",
       "       'Lake Wellingborough', 'Fayetteville Street', 'Raleigh',\n",
       "       'Hazelwood', 'Fairmont', 'Meredith Townes', 'Apex', 'Chapel Hill',\n",
       "       'Northwoods', 'Edgehill Farms', 'Tanglewood', 'Preston',\n",
       "       'Eastgate', 'East Elmhurst', 'Jackson Heights', 'Long Island City',\n",
       "       'Katunayaka', 'Unknown Location', 'Colombo', 'Nugegoda',\n",
       "       'Islamabad', 'R?walpindi', 'Noorpur Shahan', 'Heritage Pines',\n",
       "       'Westpark Place', 'Waverly Place', 'Wayne Ridge', 'Weston',\n",
       "       'East Austin', 'West University', 'South Congress', 'The Drag',\n",
       "       'Congress Ave District', 'Red River District', 'Georgian Acres',\n",
       "       'North Austin', 'Coxville', 'Convention Center District', 'Austin',\n",
       "       'Katy', 'Sharpstown', 'Sugar Land', 'Galveston', 'Port Bolivar',\n",
       "       'Washington Avenue', 'Briar Meadow', 'Latta', 'Jacksonville',\n",
       "       'Couples Glen', 'Kissimmee', 'Lake Reams', 'Orlando',\n",
       "       'Sand Lake Commons', 'Sky Lake', 'Daytona Beach', 'Ridgeland',\n",
       "       'Florence', 'Meredith', 'Holly Springs', 'Chessington', 'Burtrose',\n",
       "       'Parkway', 'Mcvan', 'Capitol One', 'University District',\n",
       "       'Seattle', 'Redmond', 'Bellevue', 'San Francisco', 'Palo Alto',\n",
       "       'Sunnyvale', 'Newark', 'Menlo Park', 'Old City', 'Savon Height',\n",
       "       'Kilarney Woods', 'Townes at Everett Crossing', 'Huntington Woods',\n",
       "       'Seaport', 'Medical Centre', 'Rose Hill', 'Soho', 'Tribeca',\n",
       "       'Financial District', 'Oakland', 'Emeryville', 'Berkeley',\n",
       "       'Kenner', 'CBD', 'Lower Garden District', 'Lakeview', 'Storyville',\n",
       "       'New Orleans', 'Metairie', 'Chalmette', 'Arabi',\n",
       "       'Pontchartrain Shores', 'Marigny', 'Covington', 'Mandeville',\n",
       "       'Jamestown Court', 'Summerwinds', 'Parkwood',\n",
       "       'Pontchartrain Beach', 'St Thomas', 'Banner Elk', 'Elk Park',\n",
       "       'Newland', 'Boone', 'Stonewater', 'Lexington Park at Amberly',\n",
       "       'Arlington Park at Amberly', 'Arlington', 'Kalorama Triangle',\n",
       "       'K Street', 'West End', 'Connecticut Avenue', 'Columbia Heights',\n",
       "       'Washington', 'Wake Forest', 'Lahore', 'Karachi', 'SOMISSPO',\n",
       "       'West Berkeley', 'North Berkeley Hills', 'San Jose', 'Eagle Rock',\n",
       "       'Winston Salem', 'Asheville', 'Topton', 'Hayesville',\n",
       "       'Bryson City', 'Almond', 'Mebane', 'Agnew', 'Cory', 'Renaissance',\n",
       "       'Santa Clara', 'NOMA', 'Sunnyside', 'Ingleside', 'Central',\n",
       "       'Tenderloin', 'College Avenue', 'South', 'Southside',\n",
       "       'South Berkeley', 'Mountain View', 'El Cerrito', 'Krendle Woods',\n",
       "       'Wake Co.', 'Fuquay-Varina', 'Rawalpindi', 'Katunayake', 'Gampaha'],\n",
       "      dtype=object)"
      ]
     },
     "execution_count": 41,
     "metadata": {},
     "output_type": "execute_result"
    }
   ],
   "source": [
    "uber_drive['START*'].unique()"
   ]
  },
  {
   "cell_type": "markdown",
   "metadata": {
    "colab_type": "text",
    "id": "s3s-pY1R198_"
   },
   "source": [
    "## Q12. What is the total number of unique start destinations? (2 points)\n",
    "### Note: Use the original dataframe without dropping 'NA' values"
   ]
  },
  {
   "cell_type": "code",
   "execution_count": 42,
   "metadata": {
    "colab": {
     "base_uri": "https://localhost:8080/",
     "height": 34
    },
    "colab_type": "code",
    "id": "OOZy88AA199A",
    "outputId": "ba664de1-6397-41c8-f844-9fa4357319dc"
   },
   "outputs": [
    {
     "data": {
      "text/plain": [
       "176"
      ]
     },
     "execution_count": 42,
     "metadata": {},
     "output_type": "execute_result"
    }
   ],
   "source": [
    "uber_drive['START*'].nunique()"
   ]
  },
  {
   "cell_type": "markdown",
   "metadata": {
    "colab_type": "text",
    "id": "LuKFv1_P199D"
   },
   "source": [
    "## Q13. Print the total number of unique stop destinations. (2 points)\n",
    "### Note: Use the original dataframe without dropping 'NA' values."
   ]
  },
  {
   "cell_type": "code",
   "execution_count": 43,
   "metadata": {
    "colab": {
     "base_uri": "https://localhost:8080/",
     "height": 34
    },
    "colab_type": "code",
    "id": "5YeWcpZT199E",
    "outputId": "a2ceeeb8-ce0f-4951-9989-2aab44434730"
   },
   "outputs": [
    {
     "data": {
      "text/plain": [
       "187"
      ]
     },
     "execution_count": 43,
     "metadata": {},
     "output_type": "execute_result"
    }
   ],
   "source": [
    "uber_drive['STOP*'].nunique()"
   ]
  },
  {
   "cell_type": "markdown",
   "metadata": {
    "colab_type": "text",
    "id": "VmkTnPlt199H"
   },
   "source": [
    "## Q14. Print all the Uber trips that has the starting point of San Francisco. (2 points)\n",
    "### Note: Use the original dataframe without dropping the 'NA' values.\n",
    "\n",
    "### Hint: Use the loc function"
   ]
  },
  {
   "cell_type": "code",
   "execution_count": 44,
   "metadata": {
    "colab": {
     "base_uri": "https://localhost:8080/",
     "height": 297
    },
    "colab_type": "code",
    "id": "fwhKZQfs199I",
    "outputId": "8828f55d-9237-4e38-bf6c-a058710af1cc"
   },
   "outputs": [
    {
     "data": {
      "text/html": [
       "<div>\n",
       "<style scoped>\n",
       "    .dataframe tbody tr th:only-of-type {\n",
       "        vertical-align: middle;\n",
       "    }\n",
       "\n",
       "    .dataframe tbody tr th {\n",
       "        vertical-align: top;\n",
       "    }\n",
       "\n",
       "    .dataframe thead th {\n",
       "        text-align: right;\n",
       "    }\n",
       "</style>\n",
       "<table border=\"1\" class=\"dataframe\">\n",
       "  <thead>\n",
       "    <tr style=\"text-align: right;\">\n",
       "      <th></th>\n",
       "      <th>START_DATE*</th>\n",
       "      <th>END_DATE*</th>\n",
       "      <th>CATEGORY*</th>\n",
       "      <th>START*</th>\n",
       "      <th>STOP*</th>\n",
       "      <th>MILES*</th>\n",
       "      <th>PURPOSE*</th>\n",
       "    </tr>\n",
       "  </thead>\n",
       "  <tbody>\n",
       "    <tr>\n",
       "      <th>362</th>\n",
       "      <td>05-09-2016 14:39</td>\n",
       "      <td>05-09-2016 15:06</td>\n",
       "      <td>Business</td>\n",
       "      <td>San Francisco</td>\n",
       "      <td>Palo Alto</td>\n",
       "      <td>20.5</td>\n",
       "      <td>Between Offices</td>\n",
       "    </tr>\n",
       "    <tr>\n",
       "      <th>440</th>\n",
       "      <td>6/14/2016 16:09</td>\n",
       "      <td>6/14/2016 16:39</td>\n",
       "      <td>Business</td>\n",
       "      <td>San Francisco</td>\n",
       "      <td>Emeryville</td>\n",
       "      <td>11.6</td>\n",
       "      <td>Meeting</td>\n",
       "    </tr>\n",
       "    <tr>\n",
       "      <th>836</th>\n",
       "      <td>10/19/2016 14:02</td>\n",
       "      <td>10/19/2016 14:31</td>\n",
       "      <td>Business</td>\n",
       "      <td>San Francisco</td>\n",
       "      <td>Berkeley</td>\n",
       "      <td>10.8</td>\n",
       "      <td>NaN</td>\n",
       "    </tr>\n",
       "    <tr>\n",
       "      <th>917</th>\n",
       "      <td>11-07-2016 19:17</td>\n",
       "      <td>11-07-2016 19:57</td>\n",
       "      <td>Business</td>\n",
       "      <td>San Francisco</td>\n",
       "      <td>Berkeley</td>\n",
       "      <td>13.2</td>\n",
       "      <td>Between Offices</td>\n",
       "    </tr>\n",
       "    <tr>\n",
       "      <th>919</th>\n",
       "      <td>11-08-2016 12:16</td>\n",
       "      <td>11-08-2016 12:49</td>\n",
       "      <td>Business</td>\n",
       "      <td>San Francisco</td>\n",
       "      <td>Berkeley</td>\n",
       "      <td>11.3</td>\n",
       "      <td>Meeting</td>\n",
       "    </tr>\n",
       "    <tr>\n",
       "      <th>927</th>\n",
       "      <td>11-09-2016 18:40</td>\n",
       "      <td>11-09-2016 19:17</td>\n",
       "      <td>Business</td>\n",
       "      <td>San Francisco</td>\n",
       "      <td>Oakland</td>\n",
       "      <td>12.7</td>\n",
       "      <td>Customer Visit</td>\n",
       "    </tr>\n",
       "    <tr>\n",
       "      <th>933</th>\n",
       "      <td>11-10-2016 15:17</td>\n",
       "      <td>11-10-2016 15:22</td>\n",
       "      <td>Business</td>\n",
       "      <td>San Francisco</td>\n",
       "      <td>Oakland</td>\n",
       "      <td>9.9</td>\n",
       "      <td>Temporary Site</td>\n",
       "    </tr>\n",
       "    <tr>\n",
       "      <th>966</th>\n",
       "      <td>11/15/2016 20:44</td>\n",
       "      <td>11/15/2016 21:00</td>\n",
       "      <td>Business</td>\n",
       "      <td>San Francisco</td>\n",
       "      <td>Berkeley</td>\n",
       "      <td>11.8</td>\n",
       "      <td>Temporary Site</td>\n",
       "    </tr>\n",
       "  </tbody>\n",
       "</table>\n",
       "</div>"
      ],
      "text/plain": [
       "          START_DATE*         END_DATE* CATEGORY*         START*       STOP*  \\\n",
       "362  05-09-2016 14:39  05-09-2016 15:06  Business  San Francisco   Palo Alto   \n",
       "440   6/14/2016 16:09   6/14/2016 16:39  Business  San Francisco  Emeryville   \n",
       "836  10/19/2016 14:02  10/19/2016 14:31  Business  San Francisco    Berkeley   \n",
       "917  11-07-2016 19:17  11-07-2016 19:57  Business  San Francisco    Berkeley   \n",
       "919  11-08-2016 12:16  11-08-2016 12:49  Business  San Francisco    Berkeley   \n",
       "927  11-09-2016 18:40  11-09-2016 19:17  Business  San Francisco     Oakland   \n",
       "933  11-10-2016 15:17  11-10-2016 15:22  Business  San Francisco     Oakland   \n",
       "966  11/15/2016 20:44  11/15/2016 21:00  Business  San Francisco    Berkeley   \n",
       "\n",
       "     MILES*         PURPOSE*  \n",
       "362    20.5  Between Offices  \n",
       "440    11.6          Meeting  \n",
       "836    10.8              NaN  \n",
       "917    13.2  Between Offices  \n",
       "919    11.3          Meeting  \n",
       "927    12.7   Customer Visit  \n",
       "933     9.9   Temporary Site  \n",
       "966    11.8   Temporary Site  "
      ]
     },
     "execution_count": 44,
     "metadata": {},
     "output_type": "execute_result"
    }
   ],
   "source": [
    "uber_drive.loc[uber_drive['START*']==\"San Francisco\"]"
   ]
  },
  {
   "cell_type": "markdown",
   "metadata": {
    "colab_type": "text",
    "id": "ZMsuzJcG199O"
   },
   "source": [
    "## Q15. What is the most popular starting point for the Uber drivers? (2 points)\n",
    "### Note: Use the original dataframe without dropping the 'NA' values.\n",
    "\n",
    "### Hint:Popular means the place that is visited the most\n",
    "\n",
    "value_counts() :  The resulting object will be in decending order so that the first element is the most frequently-occuring elements. \n",
    "\n",
    "Excludes NA values by default."
   ]
  },
  {
   "cell_type": "code",
   "execution_count": 45,
   "metadata": {
    "colab": {
     "base_uri": "https://localhost:8080/",
     "height": 221
    },
    "colab_type": "code",
    "id": "a5QGyjza199P",
    "outputId": "252b4f81-f80d-4ef0-b797-34f27b14711e"
   },
   "outputs": [
    {
     "data": {
      "text/plain": [
       "Cary                201\n",
       "Unknown Location    148\n",
       "Morrisville          85\n",
       "Whitebridge          68\n",
       "Islamabad            57\n",
       "                   ... \n",
       "Wake Forest           1\n",
       "Gulfton               1\n",
       "Ridgeland             1\n",
       "Mountain View         1\n",
       "Soho                  1\n",
       "Name: START*, Length: 176, dtype: int64"
      ]
     },
     "execution_count": 45,
     "metadata": {},
     "output_type": "execute_result"
    }
   ],
   "source": [
    "uber_drive[\"START*\"].value_counts()"
   ]
  },
  {
   "cell_type": "code",
   "execution_count": 46,
   "metadata": {},
   "outputs": [
    {
     "data": {
      "text/plain": [
       "148"
      ]
     },
     "execution_count": 46,
     "metadata": {},
     "output_type": "execute_result"
    }
   ],
   "source": [
    "uber_drive[\"START*\"].value_counts()[1] # for indexing any perticular rank"
   ]
  },
  {
   "cell_type": "markdown",
   "metadata": {
    "colab_type": "text",
    "id": "S13-HiPG199T"
   },
   "source": [
    "## Q16. What is the most popular dropping point for the Uber drivers? (2 points)\n",
    "### Note: Use the original dataframe without dropping the 'NA' values.\n",
    "\n",
    "### Hint: Popular means the place that is visited the most"
   ]
  },
  {
   "cell_type": "code",
   "execution_count": 47,
   "metadata": {
    "colab": {
     "base_uri": "https://localhost:8080/",
     "height": 221
    },
    "colab_type": "code",
    "id": "YP-hwvNT199T",
    "outputId": "9e0c1ea2-0a45-4ef8-c1ed-3c52b6fb866e"
   },
   "outputs": [
    {
     "data": {
      "text/plain": [
       "Cary                     203\n",
       "Unknown Location         149\n",
       "Morrisville               84\n",
       "Whitebridge               65\n",
       "Islamabad                 58\n",
       "                        ... \n",
       "Lower Garden District      1\n",
       "Gulfton                    1\n",
       "Long Island City           1\n",
       "K Street                   1\n",
       "Financial District         1\n",
       "Name: STOP*, Length: 187, dtype: int64"
      ]
     },
     "execution_count": 47,
     "metadata": {},
     "output_type": "execute_result"
    }
   ],
   "source": [
    "uber_drive[\"STOP*\"].value_counts()"
   ]
  },
  {
   "cell_type": "markdown",
   "metadata": {
    "colab_type": "text",
    "id": "6Iqizk7B199W"
   },
   "source": [
    "## Q17. List the most frequent route taken by Uber drivers. (3 points)\n",
    "### Note: This question is based on the new dataframe with no 'na' values.\n",
    "### Hint-Print the most frequent route taken by Uber drivers (Route= combination of START & END points present in the Data set)."
   ]
  },
  {
   "cell_type": "code",
   "execution_count": 48,
   "metadata": {
    "colab": {
     "base_uri": "https://localhost:8080/",
     "height": 68
    },
    "colab_type": "code",
    "id": "f41v9gc4199X",
    "outputId": "cd00fa8e-fccf-4d34-ad09-cc69efbc7797"
   },
   "outputs": [
    {
     "data": {
      "text/plain": [
       "START*  STOP*      \n",
       "Cary    Morrisville    52\n",
       "dtype: int64"
      ]
     },
     "execution_count": 48,
     "metadata": {},
     "output_type": "execute_result"
    }
   ],
   "source": [
    "uber_drive.dropna().groupby([\"START*\",\"STOP*\"]).size().sort_values(ascending=False).head(1)"
   ]
  },
  {
   "cell_type": "code",
   "execution_count": 49,
   "metadata": {},
   "outputs": [
    {
     "data": {
      "text/plain": [
       "START*  STOP*      \n",
       "Cary    Morrisville    52\n",
       "dtype: int64"
      ]
     },
     "execution_count": 49,
     "metadata": {},
     "output_type": "execute_result"
    }
   ],
   "source": [
    "df.groupby([\"START*\",\"STOP*\"]).size().sort_values(ascending=False).head(1)"
   ]
  },
  {
   "cell_type": "markdown",
   "metadata": {
    "colab_type": "text",
    "id": "oBrYyZ-L199Z"
   },
   "source": [
    "## Q18. Print all types of purposes for the trip in an array. (3 points)\n",
    "### Note: This question is based on the new dataframe with no 'NA' values."
   ]
  },
  {
   "cell_type": "code",
   "execution_count": 50,
   "metadata": {},
   "outputs": [
    {
     "data": {
      "text/plain": [
       "array(['Meal/Entertain', 'Errand/Supplies', 'Meeting', 'Customer Visit',\n",
       "       'Temporary Site', 'Between Offices', 'Charity ($)', 'Commute',\n",
       "       'Moving', 'Airport/Travel'], dtype=object)"
      ]
     },
     "execution_count": 50,
     "metadata": {},
     "output_type": "execute_result"
    }
   ],
   "source": [
    "np.array(uber_drive[\"PURPOSE*\"].dropna().unique())"
   ]
  },
  {
   "cell_type": "code",
   "execution_count": 51,
   "metadata": {
    "colab": {
     "base_uri": "https://localhost:8080/",
     "height": 68
    },
    "colab_type": "code",
    "id": "p3fe_lTe199a",
    "outputId": "4da2403f-9fe6-4b06-b497-ad7b9a241e82"
   },
   "outputs": [
    {
     "data": {
      "text/plain": [
       "array(['Meal/Entertain', 'Errand/Supplies', 'Meeting', 'Customer Visit',\n",
       "       'Temporary Site', 'Between Offices', 'Charity ($)', 'Commute',\n",
       "       'Moving', 'Airport/Travel'], dtype=object)"
      ]
     },
     "execution_count": 51,
     "metadata": {},
     "output_type": "execute_result"
    }
   ],
   "source": [
    "np.array(df[\"PURPOSE*\"].unique())"
   ]
  },
  {
   "cell_type": "markdown",
   "metadata": {
    "colab_type": "text",
    "id": "WBN9Ufxc199d"
   },
   "source": [
    "## Q19. Plot a bar graph of Purpose vs Miles(Distance). (3 points)\n",
    "### Note: Use the original dataframe without dropping the 'NA' values.\n",
    "### Hint:You have to plot total/sum miles per purpose"
   ]
  },
  {
   "cell_type": "code",
   "execution_count": 52,
   "metadata": {
    "colab": {
     "base_uri": "https://localhost:8080/",
     "height": 351
    },
    "colab_type": "code",
    "id": "JaNSQ_qSa-Rg",
    "outputId": "90752e9b-f384-4cdd-a503-f5ddee0730f9"
   },
   "outputs": [
    {
     "data": {
      "image/png": "[encoded data removed]",
      "text/plain": [
       "<Figure size 432x288 with 1 Axes>"
      ]
     },
     "metadata": {
      "needs_background": "light"
     },
     "output_type": "display_data"
    }
   ],
   "source": [
    "df=pd.DataFrame(uber_drive['MILES*'].groupby(uber_drive[\"PURPOSE*\"]).sum())\n",
    "df.plot(kind=\"bar\")\n",
    "plt.show()"
   ]
  },
  {
   "cell_type": "code",
   "execution_count": 53,
   "metadata": {},
   "outputs": [
    {
     "data": {
      "image/png": "[encoded data removed]",
      "text/plain": [
       "<Figure size 432x288 with 1 Axes>"
      ]
     },
     "metadata": {
      "needs_background": "light"
     },
     "output_type": "display_data"
    }
   ],
   "source": [
    "df=df.reset_index()\n",
    "sns.barplot(x=df[\"MILES*\"], y=df[\"PURPOSE*\"]);"
   ]
  },
  {
   "cell_type": "markdown",
   "metadata": {
    "colab_type": "text",
    "id": "b7-pD446199j"
   },
   "source": [
    "## Q20. Print a dataframe of Purposes and the distance travelled for that particular Purpose. (3 points)\n",
    "### Note: Use the original dataframe without dropping \"NA\" values"
   ]
  },
  {
   "cell_type": "code",
   "execution_count": 54,
   "metadata": {
    "colab": {
     "base_uri": "https://localhost:8080/",
     "height": 390
    },
    "colab_type": "code",
    "id": "Em4d7Ng9199k",
    "outputId": "abe48585-adf0-4848-bc0e-7023e883f12c"
   },
   "outputs": [
    {
     "data": {
      "text/html": [
       "<div>\n",
       "<style scoped>\n",
       "    .dataframe tbody tr th:only-of-type {\n",
       "        vertical-align: middle;\n",
       "    }\n",
       "\n",
       "    .dataframe tbody tr th {\n",
       "        vertical-align: top;\n",
       "    }\n",
       "\n",
       "    .dataframe thead th {\n",
       "        text-align: right;\n",
       "    }\n",
       "</style>\n",
       "<table border=\"1\" class=\"dataframe\">\n",
       "  <thead>\n",
       "    <tr style=\"text-align: right;\">\n",
       "      <th></th>\n",
       "      <th>MILES*</th>\n",
       "    </tr>\n",
       "    <tr>\n",
       "      <th>PURPOSE*</th>\n",
       "      <th></th>\n",
       "    </tr>\n",
       "  </thead>\n",
       "  <tbody>\n",
       "    <tr>\n",
       "      <th>Airport/Travel</th>\n",
       "      <td>16.5</td>\n",
       "    </tr>\n",
       "    <tr>\n",
       "      <th>Between Offices</th>\n",
       "      <td>197.0</td>\n",
       "    </tr>\n",
       "    <tr>\n",
       "      <th>Charity ($)</th>\n",
       "      <td>15.1</td>\n",
       "    </tr>\n",
       "    <tr>\n",
       "      <th>Commute</th>\n",
       "      <td>180.2</td>\n",
       "    </tr>\n",
       "    <tr>\n",
       "      <th>Customer Visit</th>\n",
       "      <td>2089.5</td>\n",
       "    </tr>\n",
       "    <tr>\n",
       "      <th>Errand/Supplies</th>\n",
       "      <td>508.0</td>\n",
       "    </tr>\n",
       "    <tr>\n",
       "      <th>Meal/Entertain</th>\n",
       "      <td>911.7</td>\n",
       "    </tr>\n",
       "    <tr>\n",
       "      <th>Meeting</th>\n",
       "      <td>2851.3</td>\n",
       "    </tr>\n",
       "    <tr>\n",
       "      <th>Moving</th>\n",
       "      <td>18.2</td>\n",
       "    </tr>\n",
       "    <tr>\n",
       "      <th>Temporary Site</th>\n",
       "      <td>523.7</td>\n",
       "    </tr>\n",
       "  </tbody>\n",
       "</table>\n",
       "</div>"
      ],
      "text/plain": [
       "                 MILES*\n",
       "PURPOSE*               \n",
       "Airport/Travel     16.5\n",
       "Between Offices   197.0\n",
       "Charity ($)        15.1\n",
       "Commute           180.2\n",
       "Customer Visit   2089.5\n",
       "Errand/Supplies   508.0\n",
       "Meal/Entertain    911.7\n",
       "Meeting          2851.3\n",
       "Moving             18.2\n",
       "Temporary Site    523.7"
      ]
     },
     "execution_count": 54,
     "metadata": {},
     "output_type": "execute_result"
    }
   ],
   "source": [
    "uber_drive.groupby(\"PURPOSE*\").sum()"
   ]
  },
  {
   "cell_type": "markdown",
   "metadata": {
    "colab_type": "text",
    "id": "CIZBaeSt199o"
   },
   "source": [
    "## Q21. Plot number of trips vs Category of trips. (3 points)\n",
    "### Note: Use the original dataframe without dropping the 'NA' values.\n",
    "### Hint : You can make a countplot or barplot."
   ]
  },
  {
   "cell_type": "code",
   "execution_count": 62,
   "metadata": {},
   "outputs": [
    {
     "data": {
      "text/plain": [
       "array([1078,   77], dtype=int64)"
      ]
     },
     "execution_count": 62,
     "metadata": {},
     "output_type": "execute_result"
    }
   ],
   "source": [
    "uber_drive[\"CATEGORY*\"].value_counts().values"
   ]
  },
  {
   "cell_type": "code",
   "execution_count": 63,
   "metadata": {},
   "outputs": [
    {
     "data": {
      "text/html": [
       "<div>\n",
       "<style scoped>\n",
       "    .dataframe tbody tr th:only-of-type {\n",
       "        vertical-align: middle;\n",
       "    }\n",
       "\n",
       "    .dataframe tbody tr th {\n",
       "        vertical-align: top;\n",
       "    }\n",
       "\n",
       "    .dataframe thead th {\n",
       "        text-align: right;\n",
       "    }\n",
       "</style>\n",
       "<table border=\"1\" class=\"dataframe\">\n",
       "  <thead>\n",
       "    <tr style=\"text-align: right;\">\n",
       "      <th></th>\n",
       "      <th>CATEGORY*</th>\n",
       "    </tr>\n",
       "  </thead>\n",
       "  <tbody>\n",
       "    <tr>\n",
       "      <th>Business</th>\n",
       "      <td>1078</td>\n",
       "    </tr>\n",
       "    <tr>\n",
       "      <th>Personal</th>\n",
       "      <td>77</td>\n",
       "    </tr>\n",
       "  </tbody>\n",
       "</table>\n",
       "</div>"
      ],
      "text/plain": [
       "          CATEGORY*\n",
       "Business       1078\n",
       "Personal         77"
      ]
     },
     "execution_count": 63,
     "metadata": {},
     "output_type": "execute_result"
    }
   ],
   "source": [
    "pd.DataFrame(uber_drive[\"CATEGORY*\"].value_counts())"
   ]
  },
  {
   "cell_type": "code",
   "execution_count": 58,
   "metadata": {},
   "outputs": [
    {
     "data": {
      "image/png": "[encoded data removed]",
      "text/plain": [
       "<Figure size 432x288 with 1 Axes>"
      ]
     },
     "metadata": {
      "needs_background": "light"
     },
     "output_type": "display_data"
    }
   ],
   "source": [
    "pd.DataFrame(uber_drive[\"CATEGORY*\"].value_counts()).plot(kind=\"bar\");"
   ]
  },
  {
   "cell_type": "code",
   "execution_count": 56,
   "metadata": {},
   "outputs": [
    {
     "name": "stderr",
     "output_type": "stream",
     "text": [
      "C:\\Users\\User\\anaconda3\\lib\\site-packages\\seaborn\\_decorators.py:36: FutureWarning: Pass the following variables as keyword args: x, y. From version 0.12, the only valid positional argument will be `data`, and passing other arguments without an explicit keyword will result in an error or misinterpretation.\n",
      "  warnings.warn(\n"
     ]
    },
    {
     "data": {
      "image/png": "[encoded data removed]",
      "text/plain": [
       "<Figure size 432x288 with 1 Axes>"
      ]
     },
     "metadata": {
      "needs_background": "light"
     },
     "output_type": "display_data"
    }
   ],
   "source": [
    "sns.barplot(uber_drive[\"CATEGORY*\"].value_counts().index,uber_drive[\"CATEGORY*\"].value_counts().values);"
   ]
  },
  {
   "cell_type": "markdown",
   "metadata": {
    "colab_type": "text",
    "id": "VgzSzOt9199t"
   },
   "source": [
    "## Q22. What is proportion of trips that is Business and what is the proportion of trips that is Personal? (3 points)\n",
    "\n",
    "### Note:Use the original dataframe without dropping the 'NA' values. The proportion calculation  is with respect to the 'miles' variable.\n",
    "### Hint:Out of the category of trips, you need to find percentage wise how many are business and how many are personal on the basis of miles per category."
   ]
  },
  {
   "cell_type": "code",
   "execution_count": 64,
   "metadata": {},
   "outputs": [
    {
     "data": {
      "text/html": [
       "<div>\n",
       "<style scoped>\n",
       "    .dataframe tbody tr th:only-of-type {\n",
       "        vertical-align: middle;\n",
       "    }\n",
       "\n",
       "    .dataframe tbody tr th {\n",
       "        vertical-align: top;\n",
       "    }\n",
       "\n",
       "    .dataframe thead th {\n",
       "        text-align: right;\n",
       "    }\n",
       "</style>\n",
       "<table border=\"1\" class=\"dataframe\">\n",
       "  <thead>\n",
       "    <tr style=\"text-align: right;\">\n",
       "      <th></th>\n",
       "      <th>MILES*</th>\n",
       "    </tr>\n",
       "    <tr>\n",
       "      <th>CATEGORY*</th>\n",
       "      <th></th>\n",
       "    </tr>\n",
       "  </thead>\n",
       "  <tbody>\n",
       "    <tr>\n",
       "      <th>Business</th>\n",
       "      <td>0.941195</td>\n",
       "    </tr>\n",
       "    <tr>\n",
       "      <th>Personal</th>\n",
       "      <td>0.058805</td>\n",
       "    </tr>\n",
       "  </tbody>\n",
       "</table>\n",
       "</div>"
      ],
      "text/plain": [
       "             MILES*\n",
       "CATEGORY*          \n",
       "Business   0.941195\n",
       "Personal   0.058805"
      ]
     },
     "execution_count": 64,
     "metadata": {},
     "output_type": "execute_result"
    }
   ],
   "source": [
    "uber_drive.groupby(\"CATEGORY*\").sum()/uber_drive.groupby(\"CATEGORY*\").sum().sum()"
   ]
  },
  {
   "cell_type": "markdown",
   "metadata": {},
   "source": [
    "# Thank You"
   ]
  }
 ],
 "metadata": {
  "colab": {
   "collapsed_sections": [],
   "name": "PDS_UberDriveProject_Question.ipynb",
   "provenance": []
  },
  "kernelspec": {
   "display_name": "Python 3",
   "language": "python",
   "name": "python3"
  },
  "language_info": {
   "codemirror_mode": {
    "name": "ipython",
    "version": 3
   },
   "file_extension": ".py",
   "mimetype": "text/x-python",
   "name": "python",
   "nbconvert_exporter": "python",
   "pygments_lexer": "ipython3",
   "version": "3.8.5"
  },
  "toc": {
   "base_numbering": 1,
   "nav_menu": {},
   "number_sections": true,
   "sideBar": true,
   "skip_h1_title": false,
   "title_cell": "Table of Contents",
   "title_sidebar": "Contents",
   "toc_cell": false,
   "toc_position": {},
   "toc_section_display": true,
   "toc_window_display": false
  },
  "varInspector": {
   "cols": {
    "lenName": 16,
    "lenType": 16,
    "lenVar": 40
   },
   "kernels_config": {
    "python": {
     "delete_cmd_postfix": "",
     "delete_cmd_prefix": "del ",
     "library": "var_list.py",
     "varRefreshCmd": "print(var_dic_list())"
    },
    "r": {
     "delete_cmd_postfix": ") ",
     "delete_cmd_prefix": "rm(",
     "library": "var_list.r",
     "varRefreshCmd": "cat(var_dic_list()) "
    }
   },
   "types_to_exclude": [
    "module",
    "function",
    "builtin_function_or_method",
    "instance",
    "_Feature"
   ],
   "window_display": false
  }
 },
 "nbformat": 4,
 "nbformat_minor": 1
}
